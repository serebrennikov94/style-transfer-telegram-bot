{
  "cells": [
    {
      "cell_type": "code",
      "source": [
        "from google.colab import drive  \n",
        "drive.mount('/content/drive')"
      ],
      "metadata": {
        "colab": {
          "base_uri": "https://localhost:8080/"
        },
        "id": "3UxO8QB8iDGk",
        "outputId": "54efe855-a8ac-4a8e-bd07-e0f4f9a6d5a3"
      },
      "execution_count": null,
      "outputs": [
        {
          "output_type": "stream",
          "name": "stdout",
          "text": [
            "Drive already mounted at /content/drive; to attempt to forcibly remount, call drive.mount(\"/content/drive\", force_remount=True).\n"
          ]
        }
      ]
    },
    {
      "cell_type": "code",
      "source": [
        "'drive/MyDrive/Telegram_Bot_(Style_Transfer)/'"
      ],
      "metadata": {
        "id": "5qysksPYiRdj"
      },
      "execution_count": null,
      "outputs": []
    },
    {
      "cell_type": "code",
      "source": [
        "!wget http://images.cocodataset.org/zips/test2017.zip\n",
        "!mkdir 'drive/MyDrive/Telegram_Bot_(Style_Transfer)/dataset'\n",
        "!unzip -q drive/MyDrive/Telegram_Bot_(Style_Transfer)/test2017.zip -d 'drive/MyDrive/Telegram_Bot_(Style_Transfer)/dataset'"
      ],
      "metadata": {
        "colab": {
          "base_uri": "https://localhost:8080/"
        },
        "id": "Hs5e3lOXbOdS",
        "outputId": "1cfa520f-1411-451f-e695-9c25a7659c31"
      },
      "execution_count": null,
      "outputs": [
        {
          "output_type": "stream",
          "name": "stdout",
          "text": [
            "--2023-01-24 11:29:12--  http://images.cocodataset.org/zips/test2017.zip\n",
            "Resolving images.cocodataset.org (images.cocodataset.org)... 52.217.139.177, 52.216.214.9, 52.216.51.81, ...\n",
            "Connecting to images.cocodataset.org (images.cocodataset.org)|52.217.139.177|:80... connected.\n",
            "HTTP request sent, awaiting response... 200 OK\n",
            "Length: 6646970404 (6.2G) [application/zip]\n",
            "Saving to: ‘test2017.zip.3’\n",
            "\n",
            "test2017.zip.3      100%[===================>]   6.19G  86.0MB/s    in 76s     \n",
            "\n",
            "2023-01-24 11:30:29 (83.4 MB/s) - ‘test2017.zip.3’ saved [6646970404/6646970404]\n",
            "\n",
            "/bin/bash: -c: line 0: syntax error near unexpected token `('\n",
            "/bin/bash: -c: line 0: `unzip -q drive/MyDrive/Telegram_Bot_(Style_Transfer)/test2017.zip -d 'drive/MyDrive/Telegram_Bot_(Style_Transfer)/dataset''\n"
          ]
        }
      ]
    },
    {
      "cell_type": "code",
      "source": [
        "!unzip -q './test2017.zip.3' -d 'drive/MyDrive/Telegram_Bot_(Style_Transfer)/dataset'"
      ],
      "metadata": {
        "id": "g6NPmApxi_vl"
      },
      "execution_count": null,
      "outputs": []
    },
    {
      "cell_type": "code",
      "source": [
        "!mkdir ./checkpoints\n",
        "!wget -q -O 'best_model.pth' https://www.dropbox.com/s/7xvmmbn1bx94exz/best_model.pth?dl=1\n",
        "!mv best_model.pth ./checkpoints"
      ],
      "metadata": {
        "id": "eEZENW7DbYTS"
      },
      "execution_count": null,
      "outputs": []
    },
    {
      "cell_type": "code",
      "source": [
        "!mkdir ./content\n",
        "!mkdir ./style\n",
        "!wget -q https://github.com/myelinfoundry-2019/challenge/raw/master/japanese_garden.jpg -P './content'\n",
        "!wget -q https://github.com/myelinfoundry-2019/challenge/raw/master/picasso_selfportrait.jpg -P './style'"
      ],
      "metadata": {
        "id": "sh8c2txecGnb"
      },
      "execution_count": null,
      "outputs": []
    },
    {
      "cell_type": "code",
      "execution_count": null,
      "metadata": {
        "id": "jx9UZR91f-Lf"
      },
      "outputs": [],
      "source": [
        "import torch\n",
        "from torch.autograd import Variable\n",
        "from collections import namedtuple\n",
        "from torchvision import models\n",
        "import torch.nn as nn\n",
        "import torch.nn.functional as F\n",
        "from torchvision import transforms\n",
        "import numpy as np\n",
        "import os\n",
        "import sys\n",
        "import random\n",
        "from PIL import Image\n",
        "import glob\n",
        "from torch.optim import Adam\n",
        "from torch.utils.data import DataLoader\n",
        "from torchvision import datasets\n",
        "from torchvision.utils import save_image\n",
        "import matplotlib.pyplot as plt\n",
        "import cv2\n",
        "def seed_everything(seed):\n",
        "    random.seed(seed)\n",
        "    os.environ['PYTHONHASHSEED'] = str(seed)\n",
        "    np.random.seed(seed)\n",
        "    torch.manual_seed(seed)\n",
        "    torch.cuda.manual_seed(seed)\n",
        "    torch.backends.cudnn.deterministic = True\n",
        "    torch.backends.cudnn.benchmark = True\n",
        "\n",
        "seed_everything(42) #for reproducibility\n",
        "device = torch.device(\"cuda\" if torch.cuda.is_available() else \"cpu\")\n",
        "\n",
        "# Mean and standard deviation used for training\n",
        "mean = np.array([0.485, 0.456, 0.406])\n",
        "std = np.array([0.229, 0.224, 0.225])"
      ]
    },
    {
      "cell_type": "markdown",
      "source": [
        "### Defining Models"
      ],
      "metadata": {
        "id": "reOwZVAAdbdT"
      }
    },
    {
      "cell_type": "code",
      "source": [
        "\"\"\" Pretrained VGG16 Model \"\"\"\n",
        "class VGG16(torch.nn.Module):\n",
        "    def __init__(self, requires_grad=False):\n",
        "        super(VGG16, self).__init__()\n",
        "        vgg_pretrained_features = models.vgg16(pretrained=True).features\n",
        "        self.slice1 = torch.nn.Sequential()\n",
        "        self.slice2 = torch.nn.Sequential()\n",
        "        self.slice3 = torch.nn.Sequential()\n",
        "        self.slice4 = torch.nn.Sequential()\n",
        "        \n",
        "        \n",
        "        for x in range(4):\n",
        "            self.slice1.add_module(str(x), vgg_pretrained_features[x])\n",
        "        for x in range(4, 9):\n",
        "            self.slice2.add_module(str(x), vgg_pretrained_features[x])\n",
        "        for x in range(9, 16):\n",
        "            self.slice3.add_module(str(x), vgg_pretrained_features[x])\n",
        "        for x in range(16, 23):\n",
        "            self.slice4.add_module(str(x), vgg_pretrained_features[x])\n",
        "        if not requires_grad:\n",
        "            for param in self.parameters():\n",
        "                param.requires_grad = False\n",
        "\n",
        "    def forward(self, X):\n",
        "        h = self.slice1(X)\n",
        "        h_relu1_2 = h\n",
        "        h = self.slice2(h)\n",
        "        h_relu2_2 = h\n",
        "        h = self.slice3(h)\n",
        "        h_relu3_3 = h\n",
        "        h = self.slice4(h)\n",
        "        h_relu4_3 = h\n",
        "        vgg_outputs = namedtuple(\"VggOutputs\", [\"relu1_2\", \"relu2_2\", \"relu3_3\", \"relu4_3\"])\n",
        "        out = vgg_outputs(h_relu1_2, h_relu2_2, h_relu3_3, h_relu4_3)\n",
        "        return out\n",
        "\n",
        "\n",
        "\"\"\" Transformer Net \"\"\"\n",
        "class TransformerNet(torch.nn.Module):\n",
        "    def __init__(self):\n",
        "        super(TransformerNet, self).__init__()\n",
        "        self.model = nn.Sequential(\n",
        "            ConvBlock(3, 32, kernel_size=9, stride=1),\n",
        "            ConvBlock(32, 64, kernel_size=3, stride=2),\n",
        "            ConvBlock(64, 128, kernel_size=3, stride=2),\n",
        "            ResidualBlock(128),\n",
        "            ResidualBlock(128),\n",
        "            ResidualBlock(128),\n",
        "            ResidualBlock(128),\n",
        "            ResidualBlock(128),\n",
        "            ConvBlock(128, 64, kernel_size=3, upsample=True),\n",
        "            ConvBlock(64, 32, kernel_size=3, upsample=True),\n",
        "            ConvBlock(32, 3, kernel_size=9, stride=1, normalize=False, relu=False),\n",
        "        )\n",
        "\n",
        "    def forward(self, x):\n",
        "        return self.model(x)\n",
        "\n",
        "\n",
        "\"\"\" Components of Transformer Net \"\"\"\n",
        "class ResidualBlock(torch.nn.Module):\n",
        "    def __init__(self, channels):\n",
        "        super(ResidualBlock, self).__init__()\n",
        "        self.block = nn.Sequential(\n",
        "            ConvBlock(channels, channels, kernel_size=3, stride=1, normalize=True, relu=True),\n",
        "            ConvBlock(channels, channels, kernel_size=3, stride=1, normalize=True, relu=False),\n",
        "        )\n",
        "\n",
        "    def forward(self, x):\n",
        "        return self.block(x) + x\n",
        "\n",
        "\n",
        "class ConvBlock(torch.nn.Module):\n",
        "    def __init__(self, in_channels, out_channels, kernel_size, stride=1, upsample=False, normalize=True, relu=True):\n",
        "        super(ConvBlock, self).__init__()\n",
        "        self.upsample = upsample\n",
        "        self.block = nn.Sequential(\n",
        "            nn.ReflectionPad2d(kernel_size // 2), nn.Conv2d(in_channels, out_channels, kernel_size, stride)\n",
        "        )\n",
        "        self.norm = nn.InstanceNorm2d(out_channels, affine=True) if normalize else None\n",
        "        self.relu = relu\n",
        "\n",
        "    def forward(self, x):\n",
        "        if self.upsample:\n",
        "            x = F.interpolate(x, scale_factor=2)\n",
        "        x = self.block(x)\n",
        "        if self.norm is not None:\n",
        "            x = self.norm(x)\n",
        "        if self.relu:\n",
        "            x = F.relu(x)\n",
        "        return x"
      ],
      "metadata": {
        "id": "X53gV2Racd7c"
      },
      "execution_count": null,
      "outputs": []
    },
    {
      "cell_type": "markdown",
      "source": [
        "### Utility functions"
      ],
      "metadata": {
        "id": "OByvApZideLd"
      }
    },
    {
      "cell_type": "code",
      "source": [
        "def gram_matrix(y):\n",
        "    \"\"\" Returns the gram matrix of y (used to compute style loss) \"\"\"\n",
        "    (b, c, h, w) = y.size()\n",
        "    features = y.view(b, c, w * h)\n",
        "    features_t = features.transpose(1, 2)\n",
        "    gram = features.bmm(features_t) / (c * h * w)\n",
        "    return gram\n",
        "\n",
        "\n",
        "def train_transform(image_size):\n",
        "    \"\"\" Transforms for training images \"\"\"\n",
        "    transform = transforms.Compose(\n",
        "        [\n",
        "            transforms.Resize((int(image_size * 1.15),int(image_size * 1.15))),\n",
        "            transforms.RandomCrop(image_size),\n",
        "            transforms.ToTensor(),\n",
        "            transforms.Normalize(mean, std),\n",
        "        ]\n",
        "    )\n",
        "    return transform\n",
        "\n",
        "\n",
        "def style_transform(image_size=None):\n",
        "    \"\"\" Transforms for style image \"\"\"\n",
        "    resize = [transforms.Resize((image_size,image_size))] if image_size else []\n",
        "    transform = transforms.Compose(resize + [transforms.ToTensor(), transforms.Normalize(mean, std)])\n",
        "    return transform\n",
        "\n",
        "def test_transform(image_size=None):\n",
        "    \"\"\" Transforms for test image \"\"\"\n",
        "    resize = [transforms.Resize(image_size)] if image_size else []\n",
        "    transform = transforms.Compose(resize + [transforms.ToTensor(), transforms.Normalize(mean, std)])\n",
        "    return transform\n",
        "\n",
        "def denormalize(tensors):\n",
        "    \"\"\" Denormalizes image tensors using mean and std \"\"\"\n",
        "    for c in range(3):\n",
        "        tensors[:, c].mul_(std[c]).add_(mean[c])\n",
        "    return tensors\n",
        "\n",
        "\n",
        "def deprocess(image_tensor):\n",
        "    \"\"\" Denormalizes and rescales image tensor \"\"\"\n",
        "    image_tensor = denormalize(image_tensor)[0]\n",
        "    image_tensor *= 255\n",
        "    image_np = torch.clamp(image_tensor, 0, 255).cpu().numpy().astype(np.uint8)\n",
        "    image_np = image_np.transpose(1, 2, 0)\n",
        "    return image_np"
      ],
      "metadata": {
        "id": "7Z4CUF9gdgte"
      },
      "execution_count": null,
      "outputs": []
    },
    {
      "cell_type": "markdown",
      "source": [
        "### Training Loop"
      ],
      "metadata": {
        "id": "yWKXvtFdeO5D"
      }
    },
    {
      "cell_type": "code",
      "source": [
        "def fast_trainer(style_image,    \n",
        "                 style_name,     \n",
        "                 dataset_path,   \n",
        "                 image_size=256,\n",
        "                 style_size=448,\n",
        "                 batch_size = 8,\n",
        "                 lr = 1e-5,\n",
        "                 epochs = 1,\n",
        "                 checkpoint_model = None,\n",
        "                 checkpoint_interval=200,\n",
        "                 sample_interval=200,\n",
        "                 lambda_style=10e10,\n",
        "                 lambda_content=10e5,):\n",
        "    \n",
        "    os.makedirs(f\"./images/outputs/{style_name}-training\", exist_ok=True)\n",
        "    os.makedirs(f\"./checkpoints\", exist_ok=True)\n",
        "\n",
        "\n",
        "    \"\"\" Create dataloader for the training data \"\"\"\n",
        "    train_dataset = datasets.ImageFolder(dataset_path, train_transform(image_size))\n",
        "    dataloader = DataLoader(train_dataset, batch_size=batch_size)\n",
        "\n",
        "    \"\"\" Define networks \"\"\"\n",
        "    transformer = TransformerNet().to(device)\n",
        "    vgg = VGG16(requires_grad=False).to(device)\n",
        "\n",
        "    \"\"\" Load checkpoint model if specified \"\"\"\n",
        "    if checkpoint_model:\n",
        "        transformer.load_state_dict(torch.load(checkpoint_model))\n",
        "\n",
        "    \"\"\" Define optimizer and loss \"\"\"\n",
        "    optimizer = Adam(transformer.parameters(), lr)\n",
        "    l2_loss = torch.nn.MSELoss().to(device)\n",
        "\n",
        "    \"\"\" Load style image \"\"\"\n",
        "    style = style_transform(style_size)(Image.open(style_image))\n",
        "    style = style.repeat(batch_size, 1, 1, 1).to(device)\n",
        "\n",
        "    \"\"\" Extract style features \"\"\"\n",
        "    features_style = vgg(style)\n",
        "    gram_style = [gram_matrix(y) for y in features_style]\n",
        "\n",
        "    \"\"\" Sample 8 images for visual evaluation of the model \"\"\"\n",
        "    image_samples = []\n",
        "    for path in random.sample(glob.glob(f\"{dataset_path}/*/*.jpg\"), 8):\n",
        "        image_samples += [style_transform(image_size)(Image.open(path))]\n",
        "    image_samples = torch.stack(image_samples)\n",
        "\n",
        "    def save_sample(batches_done):\n",
        "        \"\"\" Evaluates the model and saves image samples \"\"\"\n",
        "        transformer.eval()\n",
        "        with torch.no_grad():\n",
        "            output = transformer(image_samples.to(device))\n",
        "        image_grid = denormalize(torch.cat((image_samples.cpu(), output.cpu()), 2))\n",
        "        save_image(image_grid, f\"./images/outputs/{style_name}-training/{batches_done}.jpg\", nrow=4)\n",
        "        transformer.train()\n",
        "    \n",
        "    \n",
        "    train_metrics = {\"content\": [], \"style\": [], \"total\": []}\n",
        "    for epoch in range(epochs):\n",
        "        epoch_metrics = {\"content\": [], \"style\": [], \"total\": []}\n",
        "        for batch_i, (images, _) in enumerate(dataloader):\n",
        "            optimizer.zero_grad()\n",
        "\n",
        "            images_original = images.to(device)\n",
        "            images_transformed = transformer(images_original)\n",
        "\n",
        "            # Extract features\n",
        "            features_original = vgg(images_original)\n",
        "            features_transformed = vgg(images_transformed)\n",
        "\n",
        "            # Compute content loss as MSE between features\n",
        "            content_loss = lambda_content * l2_loss(features_transformed.relu2_2, features_original.relu2_2)\n",
        "\n",
        "            # Compute style loss as MSE between gram matrices\n",
        "            style_loss = 0\n",
        "            for ft_y, gm_s in zip(features_transformed, gram_style):\n",
        "                gm_y = gram_matrix(ft_y)\n",
        "                style_loss += l2_loss(gm_y, gm_s[: images.size(0), :, :])\n",
        "            style_loss *= lambda_style\n",
        "\n",
        "            total_loss = content_loss + style_loss\n",
        "            total_loss.backward()\n",
        "            optimizer.step()\n",
        "\n",
        "            epoch_metrics[\"content\"] += [content_loss.item()]\n",
        "            epoch_metrics[\"style\"] += [style_loss.item()]\n",
        "            epoch_metrics[\"total\"] += [total_loss.item()]\n",
        "            \n",
        "            train_metrics[\"content\"] += [content_loss.item()]\n",
        "            train_metrics[\"style\"] += [style_loss.item()]\n",
        "            train_metrics[\"total\"] += [total_loss.item()]\n",
        "\n",
        "            sys.stdout.write(\n",
        "                \"\\r[Epoch %d/%d] [Batch %d/%d] [Content: %.2f (%.2f) Style: %.2f (%.2f) Total: %.2f (%.2f)]\"\n",
        "                % (\n",
        "                    epoch + 1,\n",
        "                    epochs,\n",
        "                    batch_i,\n",
        "                    len(train_dataset),\n",
        "                    content_loss.item(),\n",
        "                    np.mean(epoch_metrics[\"content\"]),\n",
        "                    style_loss.item(),\n",
        "                    np.mean(epoch_metrics[\"style\"]),\n",
        "                    total_loss.item(),\n",
        "                    np.mean(epoch_metrics[\"total\"]),\n",
        "                )\n",
        "            )\n",
        "\n",
        "            batches_done = epoch * len(dataloader) + batch_i + 1\n",
        "            if batches_done % sample_interval == 0:\n",
        "                save_sample(batches_done)\n",
        "\n",
        "            if checkpoint_interval > 0 and batches_done % checkpoint_interval == 0:\n",
        "                torch.save(transformer.state_dict(), f\"./checkpoints/{style_name}_{batches_done}.pth\")\n",
        "\n",
        "\n",
        "            torch.save(transformer.state_dict(), f\"./checkpoints/last_checkpoint.pth\")\n",
        "    \n",
        "    print(\"Training Completed!\")\n",
        "    \n",
        "    #printing the loss curve.\n",
        "    plt.plot(train_metrics[\"content\"], label = \"Content Loss\")\n",
        "    plt.plot(train_metrics[\"style\"], label = \"Style Loss\")\n",
        "    plt.plot(train_metrics[\"total\"], label = \"Total Loss\")\n",
        "    plt.xlabel('Iteration')\n",
        "    plt.ylabel('Loss')\n",
        "    plt.title('Training Loss')\n",
        "    plt.legend()\n",
        "    plt.show()"
      ],
      "metadata": {
        "id": "Sok0I2VbePwU"
      },
      "execution_count": null,
      "outputs": []
    },
    {
      "cell_type": "markdown",
      "source": [
        "### Testing and Inference Loop"
      ],
      "metadata": {
        "id": "Rae0ARqagKIV"
      }
    },
    {
      "cell_type": "code",
      "source": [
        "def test_image(image_path,checkpoint_model,save_path):\n",
        "    os.makedirs(os.path.join(save_path,\"results\"), exist_ok=True)\n",
        "\n",
        "    transform = test_transform()\n",
        "\n",
        "    # Define model and load model checkpoint\n",
        "    transformer = TransformerNet().to(device)\n",
        "    transformer.load_state_dict(torch.load(checkpoint_model))\n",
        "    transformer.eval()\n",
        "\n",
        "    # Prepare input\n",
        "    image_tensor = Variable(transform(Image.open(image_path))).to(device)\n",
        "    image_tensor = image_tensor.unsqueeze(0)\n",
        "\n",
        "    # Stylize image\n",
        "    with torch.no_grad():\n",
        "        stylized_image = denormalize(transformer(image_tensor)).cpu()\n",
        "    # Save image\n",
        "    fn = checkpoint_model.split('/')[-1].split('.')[0]\n",
        "    save_image(stylized_image, os.path.join(save_path,f\"results/{fn}-output.jpg\"))\n",
        "    print(\"Image Saved!\")\n",
        "    plt.imshow(cv2.cvtColor(cv2.imread(os.path.join(save_path,f\"results/{fn}-output.jpg\")), cv2.COLOR_BGR2RGB))"
      ],
      "metadata": {
        "id": "iPdlPLeUgLGJ"
      },
      "execution_count": null,
      "outputs": []
    },
    {
      "cell_type": "markdown",
      "source": [
        "### To train run this:"
      ],
      "metadata": {
        "id": "yh5p2mDzgfoC"
      }
    },
    {
      "cell_type": "code",
      "source": [
        "! ls 'drive/MyDrive/Telegram_Bot_(Style_Transfer)'"
      ],
      "metadata": {
        "colab": {
          "base_uri": "https://localhost:8080/"
        },
        "id": "sRxZxyadCXWS",
        "outputId": "8aad6613-e2dd-4b79-e365-736866479122"
      },
      "execution_count": null,
      "outputs": [
        {
          "output_type": "stream",
          "name": "stdout",
          "text": [
            " bear.jpg      dataset\t\t 'retro style.jpg'\n",
            " blocks.jpg    gen1.png\t\t 'style Image.jpg'\n",
            " bubbles.jpg   gen_new.png\t 'Style Transfer.ipynb'\n",
            " cat.jpg       gen.png\t\t 'Style Transfer ver. 2.ipynb'\n",
            " cubes.jpg     Nikola-Tesla.jpg  'Style Transfer ver. 3.ipynb'\n",
            " cubism.jpg    one_picture\t 'van gogh.jpeg'\n"
          ]
        }
      ]
    },
    {
      "cell_type": "code",
      "source": [
        "\"\"\" Run this to train the model \"\"\"\n",
        "#[NOTE]: For representation purpose i am using a smaller dataset. Pls use the dataset given at the start of this notebook \n",
        "#for better results and change the dataset_path in this function.\n",
        "\n",
        "# fast_trainer(style_image='./style/picasso_selfportrait.jpg',style_name = 'Picasso_Selfportrait',\n",
        "#              dataset_path='drive/MyDrive/Telegram_Bot_(Style_Transfer)/dataset', epochs = 1)\n",
        "\n",
        "fast_trainer(style_image='drive/MyDrive/Telegram_Bot_(Style_Transfer)/cubism.jpg',style_name = 'Cubism',\n",
        "             dataset_path='drive/MyDrive/Telegram_Bot_(Style_Transfer)/one_picture', epochs = 1)"
      ],
      "metadata": {
        "colab": {
          "base_uri": "https://localhost:8080/",
          "height": 451,
          "referenced_widgets": [
            "991c9d47dbb34641a83ea9d3b58b9be2",
            "23cafff0c0b84c05a0d97c7e461926b3",
            "3a2bad9ab5ea473797975dc635e5478a",
            "c6d59aabe8fd4cdaadfabb14c18b0930",
            "353e584142394f7fb5c8f07b928699f6",
            "2c1ee062049d4edc9c217bab74e8cd73",
            "45fce47a8d8a4ce7a311d2d475c15ace",
            "94cd7a0b851c4a20b4d0644ed2a14274",
            "56e09cd6a49a4d0fbcfd8ff46ca0fabb",
            "fabf521f758746d5a321349ecc887e7e",
            "bea73996eadc458ea534c457135f7f8c"
          ]
        },
        "id": "Nbut04XrghLH",
        "outputId": "da2bfcff-ac52-4566-a81f-5ccdf302d5fe"
      },
      "execution_count": null,
      "outputs": [
        {
          "output_type": "stream",
          "name": "stderr",
          "text": [
            "/usr/local/lib/python3.8/dist-packages/torchvision/models/_utils.py:208: UserWarning: The parameter 'pretrained' is deprecated since 0.13 and may be removed in the future, please use 'weights' instead.\n",
            "  warnings.warn(\n",
            "/usr/local/lib/python3.8/dist-packages/torchvision/models/_utils.py:223: UserWarning: Arguments other than a weight enum or `None` for 'weights' are deprecated since 0.13 and may be removed in the future. The current behavior is equivalent to passing `weights=VGG16_Weights.IMAGENET1K_V1`. You can also use `weights=VGG16_Weights.DEFAULT` to get the most up-to-date weights.\n",
            "  warnings.warn(msg)\n",
            "Downloading: \"https://download.pytorch.org/models/vgg16-397923af.pth\" to /root/.cache/torch/hub/checkpoints/vgg16-397923af.pth\n"
          ]
        },
        {
          "output_type": "display_data",
          "data": {
            "text/plain": [
              "  0%|          | 0.00/528M [00:00<?, ?B/s]"
            ],
            "application/vnd.jupyter.widget-view+json": {
              "version_major": 2,
              "version_minor": 0,
              "model_id": "991c9d47dbb34641a83ea9d3b58b9be2"
            }
          },
          "metadata": {}
        },
        {
          "output_type": "stream",
          "name": "stdout",
          "text": [
            "\r[Epoch 1/1] [Batch 0/1] [Content: 7485539.50 (7485539.50) Style: 40399880.00 (40399880.00) Total: 47885420.00 (47885420.00)]Training Completed!\n"
          ]
        },
        {
          "output_type": "display_data",
          "data": {
            "text/plain": [
              "<Figure size 432x288 with 1 Axes>"
            ],
            "image/png": "[encoded data removed]"
          },
          "metadata": {
            "needs_background": "light"
          }
        }
      ]
    },
    {
      "cell_type": "code",
      "source": [
        "test_image(image_path = './content/japanese_garden.jpg',\n",
        "           checkpoint_model = './checkpoints/best_model.pth',\n",
        "           save_path = './')"
      ],
      "metadata": {
        "id": "TGIJ5drhPA30"
      },
      "execution_count": null,
      "outputs": []
    },
    {
      "cell_type": "code",
      "source": [
        "test_image(image_path = 'drive/MyDrive/Telegram_Bot_(Style_Transfer)/cat.jpg',\n",
        "           checkpoint_model = '/content/checkpoints/last_checkpoint.pth',\n",
        "           save_path = './')"
      ],
      "metadata": {
        "colab": {
          "base_uri": "https://localhost:8080/",
          "height": 286
        },
        "id": "ZqtYct17qwq9",
        "outputId": "b332bfb9-5ed5-43cb-f75f-c832279bc044"
      },
      "execution_count": null,
      "outputs": [
        {
          "output_type": "stream",
          "name": "stdout",
          "text": [
            "Image Saved!\n"
          ]
        },
        {
          "output_type": "display_data",
          "data": {
            "text/plain": [
              "<Figure size 432x288 with 1 Axes>"
            ],
            "image/png": "[encoded data removed]"
          },
          "metadata": {
            "needs_background": "light"
          }
        }
      ]
    }
  ],
  "metadata": {
    "colab": {
      "provenance": []
    },
    "gpuClass": "standard",
    "kernelspec": {
      "display_name": "Python 3",
      "name": "python3"
    },
    "language_info": {
      "name": "python"
    },
    "widgets": {
      "application/vnd.jupyter.widget-state+json": {
        "991c9d47dbb34641a83ea9d3b58b9be2": {
          "model_module": "@jupyter-widgets/controls",
          "model_name": "HBoxModel",
          "model_module_version": "1.5.0",
          "state": {
            "_dom_classes": [],
            "_model_module": "@jupyter-widgets/controls",
            "_model_module_version": "1.5.0",
            "_model_name": "HBoxModel",
            "_view_count": null,
            "_view_module": "@jupyter-widgets/controls",
            "_view_module_version": "1.5.0",
            "_view_name": "HBoxView",
            "box_style": "",
            "children": [
              "IPY_MODEL_23cafff0c0b84c05a0d97c7e461926b3",
              "IPY_MODEL_3a2bad9ab5ea473797975dc635e5478a",
              "IPY_MODEL_c6d59aabe8fd4cdaadfabb14c18b0930"
            ],
            "layout": "IPY_MODEL_353e584142394f7fb5c8f07b928699f6"
          }
        },
        "23cafff0c0b84c05a0d97c7e461926b3": {
          "model_module": "@jupyter-widgets/controls",
          "model_name": "HTMLModel",
          "model_module_version": "1.5.0",
          "state": {
            "_dom_classes": [],
            "_model_module": "@jupyter-widgets/controls",
            "_model_module_version": "1.5.0",
            "_model_name": "HTMLModel",
            "_view_count": null,
            "_view_module": "@jupyter-widgets/controls",
            "_view_module_version": "1.5.0",
            "_view_name": "HTMLView",
            "description": "",
            "description_tooltip": null,
            "layout": "IPY_MODEL_2c1ee062049d4edc9c217bab74e8cd73",
            "placeholder": "​",
            "style": "IPY_MODEL_45fce47a8d8a4ce7a311d2d475c15ace",
            "value": "100%"
          }
        },
        "3a2bad9ab5ea473797975dc635e5478a": {
          "model_module": "@jupyter-widgets/controls",
          "model_name": "FloatProgressModel",
          "model_module_version": "1.5.0",
          "state": {
            "_dom_classes": [],
            "_model_module": "@jupyter-widgets/controls",
            "_model_module_version": "1.5.0",
            "_model_name": "FloatProgressModel",
            "_view_count": null,
            "_view_module": "@jupyter-widgets/controls",
            "_view_module_version": "1.5.0",
            "_view_name": "ProgressView",
            "bar_style": "success",
            "description": "",
            "description_tooltip": null,
            "layout": "IPY_MODEL_94cd7a0b851c4a20b4d0644ed2a14274",
            "max": 553433881,
            "min": 0,
            "orientation": "horizontal",
            "style": "IPY_MODEL_56e09cd6a49a4d0fbcfd8ff46ca0fabb",
            "value": 553433881
          }
        },
        "c6d59aabe8fd4cdaadfabb14c18b0930": {
          "model_module": "@jupyter-widgets/controls",
          "model_name": "HTMLModel",
          "model_module_version": "1.5.0",
          "state": {
            "_dom_classes": [],
            "_model_module": "@jupyter-widgets/controls",
            "_model_module_version": "1.5.0",
            "_model_name": "HTMLModel",
            "_view_count": null,
            "_view_module": "@jupyter-widgets/controls",
            "_view_module_version": "1.5.0",
            "_view_name": "HTMLView",
            "description": "",
            "description_tooltip": null,
            "layout": "IPY_MODEL_fabf521f758746d5a321349ecc887e7e",
            "placeholder": "​",
            "style": "IPY_MODEL_bea73996eadc458ea534c457135f7f8c",
            "value": " 528M/528M [00:04&lt;00:00, 127MB/s]"
          }
        },
        "353e584142394f7fb5c8f07b928699f6": {
          "model_module": "@jupyter-widgets/base",
          "model_name": "LayoutModel",
          "model_module_version": "1.2.0",
          "state": {
            "_model_module": "@jupyter-widgets/base",
            "_model_module_version": "1.2.0",
            "_model_name": "LayoutModel",
            "_view_count": null,
            "_view_module": "@jupyter-widgets/base",
            "_view_module_version": "1.2.0",
            "_view_name": "LayoutView",
            "align_content": null,
            "align_items": null,
            "align_self": null,
            "border": null,
            "bottom": null,
            "display": null,
            "flex": null,
            "flex_flow": null,
            "grid_area": null,
            "grid_auto_columns": null,
            "grid_auto_flow": null,
            "grid_auto_rows": null,
            "grid_column": null,
            "grid_gap": null,
            "grid_row": null,
            "grid_template_areas": null,
            "grid_template_columns": null,
            "grid_template_rows": null,
            "height": null,
            "justify_content": null,
            "justify_items": null,
            "left": null,
            "margin": null,
            "max_height": null,
            "max_width": null,
            "min_height": null,
            "min_width": null,
            "object_fit": null,
            "object_position": null,
            "order": null,
            "overflow": null,
            "overflow_x": null,
            "overflow_y": null,
            "padding": null,
            "right": null,
            "top": null,
            "visibility": null,
            "width": null
          }
        },
        "2c1ee062049d4edc9c217bab74e8cd73": {
          "model_module": "@jupyter-widgets/base",
          "model_name": "LayoutModel",
          "model_module_version": "1.2.0",
          "state": {
            "_model_module": "@jupyter-widgets/base",
            "_model_module_version": "1.2.0",
            "_model_name": "LayoutModel",
            "_view_count": null,
            "_view_module": "@jupyter-widgets/base",
            "_view_module_version": "1.2.0",
            "_view_name": "LayoutView",
            "align_content": null,
            "align_items": null,
            "align_self": null,
            "border": null,
            "bottom": null,
            "display": null,
            "flex": null,
            "flex_flow": null,
            "grid_area": null,
            "grid_auto_columns": null,
            "grid_auto_flow": null,
            "grid_auto_rows": null,
            "grid_column": null,
            "grid_gap": null,
            "grid_row": null,
            "grid_template_areas": null,
            "grid_template_columns": null,
            "grid_template_rows": null,
            "height": null,
            "justify_content": null,
            "justify_items": null,
            "left": null,
            "margin": null,
            "max_height": null,
            "max_width": null,
            "min_height": null,
            "min_width": null,
            "object_fit": null,
            "object_position": null,
            "order": null,
            "overflow": null,
            "overflow_x": null,
            "overflow_y": null,
            "padding": null,
            "right": null,
            "top": null,
            "visibility": null,
            "width": null
          }
        },
        "45fce47a8d8a4ce7a311d2d475c15ace": {
          "model_module": "@jupyter-widgets/controls",
          "model_name": "DescriptionStyleModel",
          "model_module_version": "1.5.0",
          "state": {
            "_model_module": "@jupyter-widgets/controls",
            "_model_module_version": "1.5.0",
            "_model_name": "DescriptionStyleModel",
            "_view_count": null,
            "_view_module": "@jupyter-widgets/base",
            "_view_module_version": "1.2.0",
            "_view_name": "StyleView",
            "description_width": ""
          }
        },
        "94cd7a0b851c4a20b4d0644ed2a14274": {
          "model_module": "@jupyter-widgets/base",
          "model_name": "LayoutModel",
          "model_module_version": "1.2.0",
          "state": {
            "_model_module": "@jupyter-widgets/base",
            "_model_module_version": "1.2.0",
            "_model_name": "LayoutModel",
            "_view_count": null,
            "_view_module": "@jupyter-widgets/base",
            "_view_module_version": "1.2.0",
            "_view_name": "LayoutView",
            "align_content": null,
            "align_items": null,
            "align_self": null,
            "border": null,
            "bottom": null,
            "display": null,
            "flex": null,
            "flex_flow": null,
            "grid_area": null,
            "grid_auto_columns": null,
            "grid_auto_flow": null,
            "grid_auto_rows": null,
            "grid_column": null,
            "grid_gap": null,
            "grid_row": null,
            "grid_template_areas": null,
            "grid_template_columns": null,
            "grid_template_rows": null,
            "height": null,
            "justify_content": null,
            "justify_items": null,
            "left": null,
            "margin": null,
            "max_height": null,
            "max_width": null,
            "min_height": null,
            "min_width": null,
            "object_fit": null,
            "object_position": null,
            "order": null,
            "overflow": null,
            "overflow_x": null,
            "overflow_y": null,
            "padding": null,
            "right": null,
            "top": null,
            "visibility": null,
            "width": null
          }
        },
        "56e09cd6a49a4d0fbcfd8ff46ca0fabb": {
          "model_module": "@jupyter-widgets/controls",
          "model_name": "ProgressStyleModel",
          "model_module_version": "1.5.0",
          "state": {
            "_model_module": "@jupyter-widgets/controls",
            "_model_module_version": "1.5.0",
            "_model_name": "ProgressStyleModel",
            "_view_count": null,
            "_view_module": "@jupyter-widgets/base",
            "_view_module_version": "1.2.0",
            "_view_name": "StyleView",
            "bar_color": null,
            "description_width": ""
          }
        },
        "fabf521f758746d5a321349ecc887e7e": {
          "model_module": "@jupyter-widgets/base",
          "model_name": "LayoutModel",
          "model_module_version": "1.2.0",
          "state": {
            "_model_module": "@jupyter-widgets/base",
            "_model_module_version": "1.2.0",
            "_model_name": "LayoutModel",
            "_view_count": null,
            "_view_module": "@jupyter-widgets/base",
            "_view_module_version": "1.2.0",
            "_view_name": "LayoutView",
            "align_content": null,
            "align_items": null,
            "align_self": null,
            "border": null,
            "bottom": null,
            "display": null,
            "flex": null,
            "flex_flow": null,
            "grid_area": null,
            "grid_auto_columns": null,
            "grid_auto_flow": null,
            "grid_auto_rows": null,
            "grid_column": null,
            "grid_gap": null,
            "grid_row": null,
            "grid_template_areas": null,
            "grid_template_columns": null,
            "grid_template_rows": null,
            "height": null,
            "justify_content": null,
            "justify_items": null,
            "left": null,
            "margin": null,
            "max_height": null,
            "max_width": null,
            "min_height": null,
            "min_width": null,
            "object_fit": null,
            "object_position": null,
            "order": null,
            "overflow": null,
            "overflow_x": null,
            "overflow_y": null,
            "padding": null,
            "right": null,
            "top": null,
            "visibility": null,
            "width": null
          }
        },
        "bea73996eadc458ea534c457135f7f8c": {
          "model_module": "@jupyter-widgets/controls",
          "model_name": "DescriptionStyleModel",
          "model_module_version": "1.5.0",
          "state": {
            "_model_module": "@jupyter-widgets/controls",
            "_model_module_version": "1.5.0",
            "_model_name": "DescriptionStyleModel",
            "_view_count": null,
            "_view_module": "@jupyter-widgets/base",
            "_view_module_version": "1.2.0",
            "_view_name": "StyleView",
            "description_width": ""
          }
        }
      }
    }
  },
  "nbformat": 4,
  "nbformat_minor": 0
}