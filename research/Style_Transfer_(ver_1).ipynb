{
  "nbformat": 4,
  "nbformat_minor": 0,
  "metadata": {
    "colab": {
      "provenance": []
    },
    "kernelspec": {
      "name": "python3",
      "display_name": "Python 3"
    },
    "language_info": {
      "name": "python"
    },
    "accelerator": "GPU",
    "gpuClass": "standard",
    "widgets": {
      "application/vnd.jupyter.widget-state+json": {
        "d9665d151df540f587fd2c7c6933a8f9": {
          "model_module": "@jupyter-widgets/controls",
          "model_name": "HBoxModel",
          "model_module_version": "1.5.0",
          "state": {
            "_dom_classes": [],
            "_model_module": "@jupyter-widgets/controls",
            "_model_module_version": "1.5.0",
            "_model_name": "HBoxModel",
            "_view_count": null,
            "_view_module": "@jupyter-widgets/controls",
            "_view_module_version": "1.5.0",
            "_view_name": "HBoxView",
            "box_style": "",
            "children": [
              "IPY_MODEL_a61f95659d0e496889e40d31396111f9",
              "IPY_MODEL_2c82bf34e18946cda663252ff4ccca50",
              "IPY_MODEL_52b879c64cc34a959131b95078cb0118"
            ],
            "layout": "IPY_MODEL_f621d7643bf7414fa017f80d14e69d0f"
          }
        },
        "a61f95659d0e496889e40d31396111f9": {
          "model_module": "@jupyter-widgets/controls",
          "model_name": "HTMLModel",
          "model_module_version": "1.5.0",
          "state": {
            "_dom_classes": [],
            "_model_module": "@jupyter-widgets/controls",
            "_model_module_version": "1.5.0",
            "_model_name": "HTMLModel",
            "_view_count": null,
            "_view_module": "@jupyter-widgets/controls",
            "_view_module_version": "1.5.0",
            "_view_name": "HTMLView",
            "description": "",
            "description_tooltip": null,
            "layout": "IPY_MODEL_7328b8ac62e04a55b7c1e1b09488415b",
            "placeholder": "​",
            "style": "IPY_MODEL_39f4e7b6b47e4051a139fe8568b86032",
            "value": "100%"
          }
        },
        "2c82bf34e18946cda663252ff4ccca50": {
          "model_module": "@jupyter-widgets/controls",
          "model_name": "FloatProgressModel",
          "model_module_version": "1.5.0",
          "state": {
            "_dom_classes": [],
            "_model_module": "@jupyter-widgets/controls",
            "_model_module_version": "1.5.0",
            "_model_name": "FloatProgressModel",
            "_view_count": null,
            "_view_module": "@jupyter-widgets/controls",
            "_view_module_version": "1.5.0",
            "_view_name": "ProgressView",
            "bar_style": "success",
            "description": "",
            "description_tooltip": null,
            "layout": "IPY_MODEL_6638d0def918483ca4b547a829933d32",
            "max": 574673361,
            "min": 0,
            "orientation": "horizontal",
            "style": "IPY_MODEL_d98fc15b80354a8fabb5ef41812f0da3",
            "value": 574673361
          }
        },
        "52b879c64cc34a959131b95078cb0118": {
          "model_module": "@jupyter-widgets/controls",
          "model_name": "HTMLModel",
          "model_module_version": "1.5.0",
          "state": {
            "_dom_classes": [],
            "_model_module": "@jupyter-widgets/controls",
            "_model_module_version": "1.5.0",
            "_model_name": "HTMLModel",
            "_view_count": null,
            "_view_module": "@jupyter-widgets/controls",
            "_view_module_version": "1.5.0",
            "_view_name": "HTMLView",
            "description": "",
            "description_tooltip": null,
            "layout": "IPY_MODEL_83f6e4a7507b4d888f034e4e96ba0462",
            "placeholder": "​",
            "style": "IPY_MODEL_8efa2f4d091b4bc4a774efccd46882cf",
            "value": " 548M/548M [00:06&lt;00:00, 80.1MB/s]"
          }
        },
        "f621d7643bf7414fa017f80d14e69d0f": {
          "model_module": "@jupyter-widgets/base",
          "model_name": "LayoutModel",
          "model_module_version": "1.2.0",
          "state": {
            "_model_module": "@jupyter-widgets/base",
            "_model_module_version": "1.2.0",
            "_model_name": "LayoutModel",
            "_view_count": null,
            "_view_module": "@jupyter-widgets/base",
            "_view_module_version": "1.2.0",
            "_view_name": "LayoutView",
            "align_content": null,
            "align_items": null,
            "align_self": null,
            "border": null,
            "bottom": null,
            "display": null,
            "flex": null,
            "flex_flow": null,
            "grid_area": null,
            "grid_auto_columns": null,
            "grid_auto_flow": null,
            "grid_auto_rows": null,
            "grid_column": null,
            "grid_gap": null,
            "grid_row": null,
            "grid_template_areas": null,
            "grid_template_columns": null,
            "grid_template_rows": null,
            "height": null,
            "justify_content": null,
            "justify_items": null,
            "left": null,
            "margin": null,
            "max_height": null,
            "max_width": null,
            "min_height": null,
            "min_width": null,
            "object_fit": null,
            "object_position": null,
            "order": null,
            "overflow": null,
            "overflow_x": null,
            "overflow_y": null,
            "padding": null,
            "right": null,
            "top": null,
            "visibility": null,
            "width": null
          }
        },
        "7328b8ac62e04a55b7c1e1b09488415b": {
          "model_module": "@jupyter-widgets/base",
          "model_name": "LayoutModel",
          "model_module_version": "1.2.0",
          "state": {
            "_model_module": "@jupyter-widgets/base",
            "_model_module_version": "1.2.0",
            "_model_name": "LayoutModel",
            "_view_count": null,
            "_view_module": "@jupyter-widgets/base",
            "_view_module_version": "1.2.0",
            "_view_name": "LayoutView",
            "align_content": null,
            "align_items": null,
            "align_self": null,
            "border": null,
            "bottom": null,
            "display": null,
            "flex": null,
            "flex_flow": null,
            "grid_area": null,
            "grid_auto_columns": null,
            "grid_auto_flow": null,
            "grid_auto_rows": null,
            "grid_column": null,
            "grid_gap": null,
            "grid_row": null,
            "grid_template_areas": null,
            "grid_template_columns": null,
            "grid_template_rows": null,
            "height": null,
            "justify_content": null,
            "justify_items": null,
            "left": null,
            "margin": null,
            "max_height": null,
            "max_width": null,
            "min_height": null,
            "min_width": null,
            "object_fit": null,
            "object_position": null,
            "order": null,
            "overflow": null,
            "overflow_x": null,
            "overflow_y": null,
            "padding": null,
            "right": null,
            "top": null,
            "visibility": null,
            "width": null
          }
        },
        "39f4e7b6b47e4051a139fe8568b86032": {
          "model_module": "@jupyter-widgets/controls",
          "model_name": "DescriptionStyleModel",
          "model_module_version": "1.5.0",
          "state": {
            "_model_module": "@jupyter-widgets/controls",
            "_model_module_version": "1.5.0",
            "_model_name": "DescriptionStyleModel",
            "_view_count": null,
            "_view_module": "@jupyter-widgets/base",
            "_view_module_version": "1.2.0",
            "_view_name": "StyleView",
            "description_width": ""
          }
        },
        "6638d0def918483ca4b547a829933d32": {
          "model_module": "@jupyter-widgets/base",
          "model_name": "LayoutModel",
          "model_module_version": "1.2.0",
          "state": {
            "_model_module": "@jupyter-widgets/base",
            "_model_module_version": "1.2.0",
            "_model_name": "LayoutModel",
            "_view_count": null,
            "_view_module": "@jupyter-widgets/base",
            "_view_module_version": "1.2.0",
            "_view_name": "LayoutView",
            "align_content": null,
            "align_items": null,
            "align_self": null,
            "border": null,
            "bottom": null,
            "display": null,
            "flex": null,
            "flex_flow": null,
            "grid_area": null,
            "grid_auto_columns": null,
            "grid_auto_flow": null,
            "grid_auto_rows": null,
            "grid_column": null,
            "grid_gap": null,
            "grid_row": null,
            "grid_template_areas": null,
            "grid_template_columns": null,
            "grid_template_rows": null,
            "height": null,
            "justify_content": null,
            "justify_items": null,
            "left": null,
            "margin": null,
            "max_height": null,
            "max_width": null,
            "min_height": null,
            "min_width": null,
            "object_fit": null,
            "object_position": null,
            "order": null,
            "overflow": null,
            "overflow_x": null,
            "overflow_y": null,
            "padding": null,
            "right": null,
            "top": null,
            "visibility": null,
            "width": null
          }
        },
        "d98fc15b80354a8fabb5ef41812f0da3": {
          "model_module": "@jupyter-widgets/controls",
          "model_name": "ProgressStyleModel",
          "model_module_version": "1.5.0",
          "state": {
            "_model_module": "@jupyter-widgets/controls",
            "_model_module_version": "1.5.0",
            "_model_name": "ProgressStyleModel",
            "_view_count": null,
            "_view_module": "@jupyter-widgets/base",
            "_view_module_version": "1.2.0",
            "_view_name": "StyleView",
            "bar_color": null,
            "description_width": ""
          }
        },
        "83f6e4a7507b4d888f034e4e96ba0462": {
          "model_module": "@jupyter-widgets/base",
          "model_name": "LayoutModel",
          "model_module_version": "1.2.0",
          "state": {
            "_model_module": "@jupyter-widgets/base",
            "_model_module_version": "1.2.0",
            "_model_name": "LayoutModel",
            "_view_count": null,
            "_view_module": "@jupyter-widgets/base",
            "_view_module_version": "1.2.0",
            "_view_name": "LayoutView",
            "align_content": null,
            "align_items": null,
            "align_self": null,
            "border": null,
            "bottom": null,
            "display": null,
            "flex": null,
            "flex_flow": null,
            "grid_area": null,
            "grid_auto_columns": null,
            "grid_auto_flow": null,
            "grid_auto_rows": null,
            "grid_column": null,
            "grid_gap": null,
            "grid_row": null,
            "grid_template_areas": null,
            "grid_template_columns": null,
            "grid_template_rows": null,
            "height": null,
            "justify_content": null,
            "justify_items": null,
            "left": null,
            "margin": null,
            "max_height": null,
            "max_width": null,
            "min_height": null,
            "min_width": null,
            "object_fit": null,
            "object_position": null,
            "order": null,
            "overflow": null,
            "overflow_x": null,
            "overflow_y": null,
            "padding": null,
            "right": null,
            "top": null,
            "visibility": null,
            "width": null
          }
        },
        "8efa2f4d091b4bc4a774efccd46882cf": {
          "model_module": "@jupyter-widgets/controls",
          "model_name": "DescriptionStyleModel",
          "model_module_version": "1.5.0",
          "state": {
            "_model_module": "@jupyter-widgets/controls",
            "_model_module_version": "1.5.0",
            "_model_name": "DescriptionStyleModel",
            "_view_count": null,
            "_view_module": "@jupyter-widgets/base",
            "_view_module_version": "1.2.0",
            "_view_name": "StyleView",
            "description_width": ""
          }
        },
        "42607bbb69324e3e961a83362a2f0d14": {
          "model_module": "@jupyter-widgets/controls",
          "model_name": "HBoxModel",
          "model_module_version": "1.5.0",
          "state": {
            "_dom_classes": [],
            "_model_module": "@jupyter-widgets/controls",
            "_model_module_version": "1.5.0",
            "_model_name": "HBoxModel",
            "_view_count": null,
            "_view_module": "@jupyter-widgets/controls",
            "_view_module_version": "1.5.0",
            "_view_name": "HBoxView",
            "box_style": "",
            "children": [
              "IPY_MODEL_5800c6765f79403ab0d54832b6c7da72",
              "IPY_MODEL_9a56e3a40bfa460094a22b705f9724c1",
              "IPY_MODEL_49963853f0d446f3958c4e6221bdada5"
            ],
            "layout": "IPY_MODEL_db087cdfb27e43759beba85f2232f5c1"
          }
        },
        "5800c6765f79403ab0d54832b6c7da72": {
          "model_module": "@jupyter-widgets/controls",
          "model_name": "HTMLModel",
          "model_module_version": "1.5.0",
          "state": {
            "_dom_classes": [],
            "_model_module": "@jupyter-widgets/controls",
            "_model_module_version": "1.5.0",
            "_model_name": "HTMLModel",
            "_view_count": null,
            "_view_module": "@jupyter-widgets/controls",
            "_view_module_version": "1.5.0",
            "_view_name": "HTMLView",
            "description": "",
            "description_tooltip": null,
            "layout": "IPY_MODEL_4e14db11d3ed4136961fc01a52be185e",
            "placeholder": "​",
            "style": "IPY_MODEL_b8830cbc7ba14f92b2329cddf0cb2457",
            "value": "100%"
          }
        },
        "9a56e3a40bfa460094a22b705f9724c1": {
          "model_module": "@jupyter-widgets/controls",
          "model_name": "FloatProgressModel",
          "model_module_version": "1.5.0",
          "state": {
            "_dom_classes": [],
            "_model_module": "@jupyter-widgets/controls",
            "_model_module_version": "1.5.0",
            "_model_name": "FloatProgressModel",
            "_view_count": null,
            "_view_module": "@jupyter-widgets/controls",
            "_view_module_version": "1.5.0",
            "_view_name": "ProgressView",
            "bar_style": "success",
            "description": "",
            "description_tooltip": null,
            "layout": "IPY_MODEL_5f4d1f0a660445fcb781a37000e790a1",
            "max": 500,
            "min": 0,
            "orientation": "horizontal",
            "style": "IPY_MODEL_c4b5b6ebbb8a4ba3bf84177692d65946",
            "value": 500
          }
        },
        "49963853f0d446f3958c4e6221bdada5": {
          "model_module": "@jupyter-widgets/controls",
          "model_name": "HTMLModel",
          "model_module_version": "1.5.0",
          "state": {
            "_dom_classes": [],
            "_model_module": "@jupyter-widgets/controls",
            "_model_module_version": "1.5.0",
            "_model_name": "HTMLModel",
            "_view_count": null,
            "_view_module": "@jupyter-widgets/controls",
            "_view_module_version": "1.5.0",
            "_view_name": "HTMLView",
            "description": "",
            "description_tooltip": null,
            "layout": "IPY_MODEL_cd384934a95440b89e5464e2a05d6d9a",
            "placeholder": "​",
            "style": "IPY_MODEL_9f91a69aeb63461d86c1f83ee6bbaa08",
            "value": " 500/500 [02:48&lt;00:00,  3.08it/s]"
          }
        },
        "db087cdfb27e43759beba85f2232f5c1": {
          "model_module": "@jupyter-widgets/base",
          "model_name": "LayoutModel",
          "model_module_version": "1.2.0",
          "state": {
            "_model_module": "@jupyter-widgets/base",
            "_model_module_version": "1.2.0",
            "_model_name": "LayoutModel",
            "_view_count": null,
            "_view_module": "@jupyter-widgets/base",
            "_view_module_version": "1.2.0",
            "_view_name": "LayoutView",
            "align_content": null,
            "align_items": null,
            "align_self": null,
            "border": null,
            "bottom": null,
            "display": null,
            "flex": null,
            "flex_flow": null,
            "grid_area": null,
            "grid_auto_columns": null,
            "grid_auto_flow": null,
            "grid_auto_rows": null,
            "grid_column": null,
            "grid_gap": null,
            "grid_row": null,
            "grid_template_areas": null,
            "grid_template_columns": null,
            "grid_template_rows": null,
            "height": null,
            "justify_content": null,
            "justify_items": null,
            "left": null,
            "margin": null,
            "max_height": null,
            "max_width": null,
            "min_height": null,
            "min_width": null,
            "object_fit": null,
            "object_position": null,
            "order": null,
            "overflow": null,
            "overflow_x": null,
            "overflow_y": null,
            "padding": null,
            "right": null,
            "top": null,
            "visibility": null,
            "width": null
          }
        },
        "4e14db11d3ed4136961fc01a52be185e": {
          "model_module": "@jupyter-widgets/base",
          "model_name": "LayoutModel",
          "model_module_version": "1.2.0",
          "state": {
            "_model_module": "@jupyter-widgets/base",
            "_model_module_version": "1.2.0",
            "_model_name": "LayoutModel",
            "_view_count": null,
            "_view_module": "@jupyter-widgets/base",
            "_view_module_version": "1.2.0",
            "_view_name": "LayoutView",
            "align_content": null,
            "align_items": null,
            "align_self": null,
            "border": null,
            "bottom": null,
            "display": null,
            "flex": null,
            "flex_flow": null,
            "grid_area": null,
            "grid_auto_columns": null,
            "grid_auto_flow": null,
            "grid_auto_rows": null,
            "grid_column": null,
            "grid_gap": null,
            "grid_row": null,
            "grid_template_areas": null,
            "grid_template_columns": null,
            "grid_template_rows": null,
            "height": null,
            "justify_content": null,
            "justify_items": null,
            "left": null,
            "margin": null,
            "max_height": null,
            "max_width": null,
            "min_height": null,
            "min_width": null,
            "object_fit": null,
            "object_position": null,
            "order": null,
            "overflow": null,
            "overflow_x": null,
            "overflow_y": null,
            "padding": null,
            "right": null,
            "top": null,
            "visibility": null,
            "width": null
          }
        },
        "b8830cbc7ba14f92b2329cddf0cb2457": {
          "model_module": "@jupyter-widgets/controls",
          "model_name": "DescriptionStyleModel",
          "model_module_version": "1.5.0",
          "state": {
            "_model_module": "@jupyter-widgets/controls",
            "_model_module_version": "1.5.0",
            "_model_name": "DescriptionStyleModel",
            "_view_count": null,
            "_view_module": "@jupyter-widgets/base",
            "_view_module_version": "1.2.0",
            "_view_name": "StyleView",
            "description_width": ""
          }
        },
        "5f4d1f0a660445fcb781a37000e790a1": {
          "model_module": "@jupyter-widgets/base",
          "model_name": "LayoutModel",
          "model_module_version": "1.2.0",
          "state": {
            "_model_module": "@jupyter-widgets/base",
            "_model_module_version": "1.2.0",
            "_model_name": "LayoutModel",
            "_view_count": null,
            "_view_module": "@jupyter-widgets/base",
            "_view_module_version": "1.2.0",
            "_view_name": "LayoutView",
            "align_content": null,
            "align_items": null,
            "align_self": null,
            "border": null,
            "bottom": null,
            "display": null,
            "flex": null,
            "flex_flow": null,
            "grid_area": null,
            "grid_auto_columns": null,
            "grid_auto_flow": null,
            "grid_auto_rows": null,
            "grid_column": null,
            "grid_gap": null,
            "grid_row": null,
            "grid_template_areas": null,
            "grid_template_columns": null,
            "grid_template_rows": null,
            "height": null,
            "justify_content": null,
            "justify_items": null,
            "left": null,
            "margin": null,
            "max_height": null,
            "max_width": null,
            "min_height": null,
            "min_width": null,
            "object_fit": null,
            "object_position": null,
            "order": null,
            "overflow": null,
            "overflow_x": null,
            "overflow_y": null,
            "padding": null,
            "right": null,
            "top": null,
            "visibility": null,
            "width": null
          }
        },
        "c4b5b6ebbb8a4ba3bf84177692d65946": {
          "model_module": "@jupyter-widgets/controls",
          "model_name": "ProgressStyleModel",
          "model_module_version": "1.5.0",
          "state": {
            "_model_module": "@jupyter-widgets/controls",
            "_model_module_version": "1.5.0",
            "_model_name": "ProgressStyleModel",
            "_view_count": null,
            "_view_module": "@jupyter-widgets/base",
            "_view_module_version": "1.2.0",
            "_view_name": "StyleView",
            "bar_color": null,
            "description_width": ""
          }
        },
        "cd384934a95440b89e5464e2a05d6d9a": {
          "model_module": "@jupyter-widgets/base",
          "model_name": "LayoutModel",
          "model_module_version": "1.2.0",
          "state": {
            "_model_module": "@jupyter-widgets/base",
            "_model_module_version": "1.2.0",
            "_model_name": "LayoutModel",
            "_view_count": null,
            "_view_module": "@jupyter-widgets/base",
            "_view_module_version": "1.2.0",
            "_view_name": "LayoutView",
            "align_content": null,
            "align_items": null,
            "align_self": null,
            "border": null,
            "bottom": null,
            "display": null,
            "flex": null,
            "flex_flow": null,
            "grid_area": null,
            "grid_auto_columns": null,
            "grid_auto_flow": null,
            "grid_auto_rows": null,
            "grid_column": null,
            "grid_gap": null,
            "grid_row": null,
            "grid_template_areas": null,
            "grid_template_columns": null,
            "grid_template_rows": null,
            "height": null,
            "justify_content": null,
            "justify_items": null,
            "left": null,
            "margin": null,
            "max_height": null,
            "max_width": null,
            "min_height": null,
            "min_width": null,
            "object_fit": null,
            "object_position": null,
            "order": null,
            "overflow": null,
            "overflow_x": null,
            "overflow_y": null,
            "padding": null,
            "right": null,
            "top": null,
            "visibility": null,
            "width": null
          }
        },
        "9f91a69aeb63461d86c1f83ee6bbaa08": {
          "model_module": "@jupyter-widgets/controls",
          "model_name": "DescriptionStyleModel",
          "model_module_version": "1.5.0",
          "state": {
            "_model_module": "@jupyter-widgets/controls",
            "_model_module_version": "1.5.0",
            "_model_name": "DescriptionStyleModel",
            "_view_count": null,
            "_view_module": "@jupyter-widgets/base",
            "_view_module_version": "1.2.0",
            "_view_name": "StyleView",
            "description_width": ""
          }
        }
      }
    }
  },
  "cells": [
    {
      "cell_type": "code",
      "execution_count": null,
      "metadata": {
        "colab": {
          "base_uri": "https://localhost:8080/"
        },
        "id": "8pUvqt4K4hPG",
        "outputId": "a5514a9d-8dae-4cd8-b733-be22df061dc1"
      },
      "outputs": [
        {
          "output_type": "stream",
          "name": "stdout",
          "text": [
            "Mounted at /content/drive\n"
          ]
        }
      ],
      "source": [
        "import torch\n",
        "import torchvision.transforms as transforms\n",
        "from PIL import Image\n",
        "import torch.nn as nn\n",
        "import torchvision.models as models\n",
        "import torch.optim as optim\n",
        "from torchvision.utils import save_image\n",
        "import matplotlib.pyplot as plt \n",
        "from google.colab import drive  \n",
        "from tqdm.notebook import tqdm\n",
        "drive.mount('/content/drive')"
      ]
    },
    {
      "cell_type": "code",
      "source": [
        "#Loadung the model vgg19 that will serve as the base model\n",
        "model=models.vgg19(pretrained=True).features\n",
        "# the vgg19 model has three components :\n",
        "    #features: containg all the conv, relu and maxpool\n",
        "    #avgpool: containing the avgpool layer\n",
        "    #classifier: contains the Dense layer(FC part of the model) \n",
        "\n",
        "\n",
        "#Assigning the GPU to the variable device\n",
        "device=torch.device(\"cuda\")"
      ],
      "metadata": {
        "colab": {
          "base_uri": "https://localhost:8080/",
          "height": 156,
          "referenced_widgets": [
            "d9665d151df540f587fd2c7c6933a8f9",
            "a61f95659d0e496889e40d31396111f9",
            "2c82bf34e18946cda663252ff4ccca50",
            "52b879c64cc34a959131b95078cb0118",
            "f621d7643bf7414fa017f80d14e69d0f",
            "7328b8ac62e04a55b7c1e1b09488415b",
            "39f4e7b6b47e4051a139fe8568b86032",
            "6638d0def918483ca4b547a829933d32",
            "d98fc15b80354a8fabb5ef41812f0da3",
            "83f6e4a7507b4d888f034e4e96ba0462",
            "8efa2f4d091b4bc4a774efccd46882cf"
          ]
        },
        "id": "blRfL-f8Av0_",
        "outputId": "5259254c-d2a6-48eb-916e-efef163db6dc"
      },
      "execution_count": null,
      "outputs": [
        {
          "output_type": "stream",
          "name": "stderr",
          "text": [
            "/usr/local/lib/python3.8/dist-packages/torchvision/models/_utils.py:208: UserWarning: The parameter 'pretrained' is deprecated since 0.13 and may be removed in the future, please use 'weights' instead.\n",
            "  warnings.warn(\n",
            "/usr/local/lib/python3.8/dist-packages/torchvision/models/_utils.py:223: UserWarning: Arguments other than a weight enum or `None` for 'weights' are deprecated since 0.13 and may be removed in the future. The current behavior is equivalent to passing `weights=VGG19_Weights.IMAGENET1K_V1`. You can also use `weights=VGG19_Weights.DEFAULT` to get the most up-to-date weights.\n",
            "  warnings.warn(msg)\n",
            "Downloading: \"https://download.pytorch.org/models/vgg19-dcbb9e9d.pth\" to /root/.cache/torch/hub/checkpoints/vgg19-dcbb9e9d.pth\n"
          ]
        },
        {
          "output_type": "display_data",
          "data": {
            "text/plain": [
              "  0%|          | 0.00/548M [00:00<?, ?B/s]"
            ],
            "application/vnd.jupyter.widget-view+json": {
              "version_major": 2,
              "version_minor": 0,
              "model_id": "d9665d151df540f587fd2c7c6933a8f9"
            }
          },
          "metadata": {}
        }
      ]
    },
    {
      "cell_type": "code",
      "source": [
        "#[0,5,10,19,28] are the index of the layers we will be using to calculate the loss as per the paper of NST\n",
        "#Defining a class that for the model\n",
        "class VGG(nn.Module):\n",
        "    def __init__(self):\n",
        "        super(VGG,self).__init__()\n",
        "        #Here we will use the following layers and make an array of their indices\n",
        "        # 0: block1_conv1\n",
        "        # 5: block2_conv1\n",
        "        # 10: block3_conv1\n",
        "        # 19: block4_conv1\n",
        "        # 28: block5_conv1\n",
        "        self.req_features= ['0','5','10','19','28'] \n",
        "        #Since we need only the 5 layers in the model so we will be dropping all the rest layers from the features of the model\n",
        "        self.model=models.vgg19(pretrained=True).features[:29] #model will contain the first 29 layers\n",
        "    \n",
        "   \n",
        "    #x holds the input tensor(image) that will be feeded to each layer\n",
        "    def forward(self,x):\n",
        "        #initialize an array that wil hold the activations from the chosen layers\n",
        "        features=[]\n",
        "        #Iterate over all the layers of the mode\n",
        "        for layer_num,layer in enumerate(self.model):\n",
        "            #activation of the layer will stored in x\n",
        "            x=layer(x)\n",
        "            #appending the activation of the selected layers and return the feature array\n",
        "            if (str(layer_num) in self.req_features):\n",
        "                features.append(x)\n",
        "                \n",
        "        return features"
      ],
      "metadata": {
        "id": "tZGOs9KiR0bN"
      },
      "execution_count": null,
      "outputs": []
    },
    {
      "cell_type": "code",
      "source": [
        "#defing a function that will load the image and perform the required preprocessing and put it on the GPU\n",
        "def image_loader(path):\n",
        "    image=Image.open(path)\n",
        "    #defining the image transformation steps to be performed before feeding them to the model\n",
        "    loader=transforms.Compose([transforms.Resize((512,512)),transforms.ToTensor()])\n",
        "    #The preprocessing steps involves resizing the image and then converting it to a tensor\n",
        "\n",
        "    image=loader(image).unsqueeze(0)\n",
        "    return image.to(device,torch.float)"
      ],
      "metadata": {
        "id": "9x-apORMR3tc"
      },
      "execution_count": null,
      "outputs": []
    },
    {
      "cell_type": "code",
      "source": [
        "!ls"
      ],
      "metadata": {
        "colab": {
          "base_uri": "https://localhost:8080/"
        },
        "id": "H2zM7fVnTKjI",
        "outputId": "121a6121-b5d6-4396-aba4-09ab9d9d7b57"
      },
      "execution_count": null,
      "outputs": [
        {
          "output_type": "stream",
          "name": "stdout",
          "text": [
            "drive  sample_data\n"
          ]
        }
      ]
    },
    {
      "cell_type": "code",
      "source": [
        "#Loading the original and the style image\n",
        "# original_image=image_loader('drive/MyDrive/Telegram_Bot_(Style_Transfer)/Nikola-Tesla.jpg')\n",
        "# style_image=image_loader('drive/MyDrive/Telegram_Bot_(Style_Transfer)/style Image.jpg')\n",
        "original_image=image_loader('drive/MyDrive/Telegram_Bot_(Style_Transfer)/cat.jpg')\n",
        "style_image=image_loader('drive/MyDrive/Telegram_Bot_(Style_Transfer)/cubes.jpg')\n",
        "\n",
        "#Creating the generated image from the original image\n",
        "generated_image=original_image.clone().requires_grad_(True)"
      ],
      "metadata": {
        "id": "ND5s-vjzSCGP"
      },
      "execution_count": null,
      "outputs": []
    },
    {
      "cell_type": "code",
      "source": [
        "def calc_content_loss(gen_feat,orig_feat):\n",
        "    #calculating the content loss of each layer by calculating the MSE between the content and generated features and adding it to content loss\n",
        "    content_l=torch.mean((gen_feat-orig_feat)**2)#*0.5\n",
        "    return content_l\n",
        "\n",
        "def calc_style_loss(gen,style):\n",
        "    #Calculating the gram matrix for the style and the generated image\n",
        "    batch_size,channel,height,width=gen.shape\n",
        "\n",
        "    G=torch.mm(gen.view(channel,height*width),gen.view(channel,height*width).t())\n",
        "    A=torch.mm(style.view(channel,height*width),style.view(channel,height*width).t())\n",
        "        \n",
        "    #Calcultating the style loss of each layer by calculating the MSE between the gram matrix of the style image and the generated image and adding it to style loss\n",
        "    style_l=torch.mean((G-A)**2)#/(4*channel*(height*width)**2)\n",
        "    return style_l\n",
        "\n",
        "def calculate_loss(gen_features, orig_feautes, style_featues):\n",
        "    style_loss=content_loss=0\n",
        "    for gen,cont,style in zip(gen_features,orig_feautes,style_featues):\n",
        "        #extracting the dimensions from the generated image\n",
        "        content_loss+=calc_content_loss(gen,cont)\n",
        "        style_loss+=calc_style_loss(gen,style)\n",
        "    \n",
        "    #calculating the total loss of e th epoch\n",
        "    total_loss=alpha*content_loss + beta*style_loss \n",
        "    return total_loss"
      ],
      "metadata": {
        "id": "K71GhNabR-Vy"
      },
      "execution_count": null,
      "outputs": []
    },
    {
      "cell_type": "code",
      "source": [
        "#Load the model to the GPU\n",
        "model=VGG().to(device).eval() \n",
        "\n",
        "#initialize the paramerters required for fitting the model\n",
        "# epoch=7000\n",
        "# lr=0.004\n",
        "# alpha=8\n",
        "# beta=70\n",
        "\n",
        "epoch=500\n",
        "lr=0.01\n",
        "alpha=1\n",
        "beta=0.01\n",
        "\n",
        "#using adam optimizer and it will update the generated image not the model parameter \n",
        "optimizer=optim.Adam([generated_image],lr=lr)"
      ],
      "metadata": {
        "id": "9GCQwJ4ySEHR"
      },
      "execution_count": null,
      "outputs": []
    },
    {
      "cell_type": "code",
      "source": [
        "%%time\n",
        "#iterating for 1000 times\n",
        "for e in tqdm(range(epoch)):\n",
        "    #extracting the features of generated, content and the original required for calculating the loss\n",
        "    gen_features=model(generated_image)\n",
        "    orig_feautes=model(original_image)\n",
        "    style_featues=model(style_image)\n",
        "    \n",
        "    #iterating over the activation of each layer and calculate the loss and add it to the content and the style loss\n",
        "    total_loss=calculate_loss(gen_features, orig_feautes, style_featues)\n",
        "    #optimize the pixel values of the generated image and backpropagate the loss\n",
        "    optimizer.zero_grad()\n",
        "    total_loss.backward()\n",
        "    optimizer.step()\n",
        "    \n",
        "    #print the image and save it after each 100 epoch\n",
        "    if(not (e%100)):\n",
        "        print(total_loss)\n",
        "        \n",
        "        save_image(generated_image,\"drive/MyDrive/Telegram_Bot_(Style_Transfer)/gen1.png\")"
      ],
      "metadata": {
        "colab": {
          "base_uri": "https://localhost:8080/",
          "height": 171,
          "referenced_widgets": [
            "42607bbb69324e3e961a83362a2f0d14",
            "5800c6765f79403ab0d54832b6c7da72",
            "9a56e3a40bfa460094a22b705f9724c1",
            "49963853f0d446f3958c4e6221bdada5",
            "db087cdfb27e43759beba85f2232f5c1",
            "4e14db11d3ed4136961fc01a52be185e",
            "b8830cbc7ba14f92b2329cddf0cb2457",
            "5f4d1f0a660445fcb781a37000e790a1",
            "c4b5b6ebbb8a4ba3bf84177692d65946",
            "cd384934a95440b89e5464e2a05d6d9a",
            "9f91a69aeb63461d86c1f83ee6bbaa08"
          ]
        },
        "id": "VFIfVxvdSJ9a",
        "outputId": "544a8145-4f07-4e10-aaa1-e79aa5b1746a"
      },
      "execution_count": null,
      "outputs": [
        {
          "output_type": "display_data",
          "data": {
            "text/plain": [
              "  0%|          | 0/500 [00:00<?, ?it/s]"
            ],
            "application/vnd.jupyter.widget-view+json": {
              "version_major": 2,
              "version_minor": 0,
              "model_id": "42607bbb69324e3e961a83362a2f0d14"
            }
          },
          "metadata": {}
        },
        {
          "output_type": "stream",
          "name": "stdout",
          "text": [
            "tensor(33679416., device='cuda:0', grad_fn=<AddBackward0>)\n",
            "tensor(1630486.6250, device='cuda:0', grad_fn=<AddBackward0>)\n",
            "tensor(835554.9375, device='cuda:0', grad_fn=<AddBackward0>)\n",
            "tensor(534096.5000, device='cuda:0', grad_fn=<AddBackward0>)\n",
            "tensor(376738.3125, device='cuda:0', grad_fn=<AddBackward0>)\n",
            "CPU times: user 1min 17s, sys: 1min 17s, total: 2min 34s\n",
            "Wall time: 2min 48s\n"
          ]
        }
      ]
    }
  ]
}